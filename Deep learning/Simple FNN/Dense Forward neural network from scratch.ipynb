{
  "cells": [
    {
      "cell_type": "markdown",
      "metadata": {},
      "source": [
        "## a Simple Forward Neural Network\n",
        "loss function = Means square loss, \n",
        "activation function = sigmoid for all layers"
      ]
    },
    {
      "cell_type": "code",
      "execution_count": 14,
      "metadata": {},
      "outputs": [],
      "source": [
        "import numpy as np\n",
        "import pandas as pd\n",
        "\n",
        "class ForwardNeuralNetwork:\n",
        "    def __init__(self, inputsize , hiddenlayer , outputsize=1, learning_rate = 0.01, epochs = 1000):\n",
        "        self.input_size = inputsize\n",
        "        self.hidden_size = hiddenlayer # List of integers, each representing the number of neurons in that hidden layer\n",
        "        self.output_size = outputsize\n",
        "        self.learning_rate = learning_rate\n",
        "        self.epochs = epochs\n",
        "        self.weights = self.initialize_weights()\n",
        "        self.training_loss = []\n",
        "        \n",
        "    def initialize_weights(self):\n",
        "        np.random.seed(1)\n",
        "        weights = []\n",
        "        layer_size = [self.input_size] + self.hidden_size + [self.output_size]\n",
        "        for i in range(len(layer_size)-1):\n",
        "            weights.append({\n",
        "                'W' : np.random.rand(layer_size[i], layer_size[i+1])-0.5,\n",
        "                'b' : np.random.rand(layer_size[i+1])-0.5\n",
        "            })\n",
        "        return weights\n",
        "    \n",
        "    def sigmoid(self,x):\n",
        "        return 1 / (1 + np.exp(-x))\n",
        "    def sigmoid_derivative(self, x):\n",
        "        return x * ( 1 - x)\n",
        "    \n",
        "    def forward_pass(self,x):\n",
        "        activation = [x]\n",
        "        z_values = []\n",
        "        for layers in self.weights:    \n",
        "            z = np.dot(activation[-1], layers['W']) + layers['b']  # z = X@W + b\n",
        "            A = self.sigmoid(z)\n",
        "            z_values.append(z)\n",
        "            activation.append(A)\n",
        "        return z_values, activation\n",
        "    \n",
        "    def backward_pass(self, X, y, z_values, activation):\n",
        "        m = y.shape[0]\n",
        "        y = y.reshape(-1,1)\n",
        "        \n",
        "        dA = activation[-1] - y  #  dL/dy_hat = 2/m * (y_hat - y_true) \n",
        "        for i in reversed(range(len(self.weights))):\n",
        "            dZ = dA * self.sigmoid_derivative(activation[i+1])   # dL/dy_hat * dy_hat/dz\n",
        "            dW = np.dot(activation[i].T, dZ)/m  #  (dL/dy_hat * dy_hat/dz)* dz/dw = (dL/dy_hat * dy_hat/dz)* a  , z2 = W@a + b\n",
        "            db = np.sum(dZ , axis =0 )/m\n",
        "            if i > 0:\n",
        "                dA = np.dot(dZ , self.weights[i]['W'].T) # (dL/dy_hat * dy_hat/dz)* dz/da = (dL/dy_hat * dy_hat/dz) @ W\n",
        "            self.weights[i]['W'] -= self.learning_rate*dW\n",
        "            self.weights[i]['b'] -= self.learning_rate*db\n",
        "        \n",
        "            \n",
        "    def fit(self, X_train, y_train):\n",
        "        for i in range(self.epochs):\n",
        "            z_values, activation = self.forward_pass(X_train)\n",
        "            self.backward_pass(X_train, y_train, z_values, activation)\n",
        "            \n",
        "            loss = np.mean((activation[-1] - y_train.reshape(-1,1))**2) # loss = (y_hat - y_true)^2 : Mean square error loss\n",
        "            self.training_loss.append(loss)\n",
        "            \n",
        "            if (i+1) % 100 == 0:\n",
        "                print(f'Epoch {i+1}/{self.epochs}, Loss: {loss}')\n",
        "\n",
        "            \n",
        "    def predict(self, X):\n",
        "        _,activation = self.forward_pass(X)\n",
        "        return (activation[-1]>0.5).astype(int)"
      ]
    },
    {
      "cell_type": "code",
      "execution_count": 15,
      "metadata": {},
      "outputs": [],
      "source": [
        "from sklearn.preprocessing import StandardScaler\n",
        "from sklearn.preprocessing import LabelEncoder, OneHotEncoder\n",
        "from sklearn.compose import ColumnTransformer\n",
        "from sklearn.model_selection import train_test_split\n",
        "#  load dataset\n",
        "dataset = pd.read_csv('Churn_Modelling.csv')\n",
        "X = dataset.iloc[: , 3:-1].values\n",
        "y = dataset.iloc[:, -1].values\n",
        "\n",
        "# encode the categorial data\n",
        "le = LabelEncoder()\n",
        "X[:,2] = le.fit_transform(X[:,2])\n",
        "# One Hot Encoding the \"Geography\" column\n",
        "ct = ColumnTransformer(transformers=[('encoder', OneHotEncoder(), [1])], remainder='passthrough')\n",
        "X = np.array(ct.fit_transform(X))\n",
        "\n",
        "X_train, X_test, y_train , y_test = train_test_split(X , y, test_size=0.2 , random_state=0)\n",
        "\n",
        "#feature scaling , this Speeding Up Convergence\n",
        "sc = StandardScaler()\n",
        "X_train = sc.fit_transform(X_train)  #scales the training data based on the calculated mean and standard deviation from the training set\n",
        "X_test = sc.transform(X_test)   #applies the same scaling to the test data using the parameters from the training set.\n"
      ]
    },
    {
      "cell_type": "code",
      "execution_count": 16,
      "metadata": {},
      "outputs": [
        {
          "name": "stdout",
          "output_type": "stream",
          "text": [
            "Epoch 100/1000, Loss: 0.22063943617151416\n",
            "Epoch 200/1000, Loss: 0.19889381505177062\n",
            "Epoch 300/1000, Loss: 0.18608514068432253\n",
            "Epoch 400/1000, Loss: 0.1783056561510579\n",
            "Epoch 500/1000, Loss: 0.17340569865950714\n",
            "Epoch 600/1000, Loss: 0.17021096732296895\n",
            "Epoch 700/1000, Loss: 0.16806358905136182\n",
            "Epoch 800/1000, Loss: 0.16658193829461715\n",
            "Epoch 900/1000, Loss: 0.16553657726106072\n",
            "Epoch 1000/1000, Loss: 0.16478487000803665\n",
            "Accuracy is 79.75%\n"
          ]
        }
      ],
      "source": [
        "# train the model\n",
        "hidden_layer = [10,10]\n",
        "epochs = 1000\n",
        "learning_rate =0.01\n",
        "nn = ForwardNeuralNetwork(inputsize=X_train.shape[1], hiddenlayer=hidden_layer, learning_rate=learning_rate , epochs=epochs)\n",
        "nn.fit(X_train, y_train)\n",
        "# evaluation\n",
        "y_pred = nn.predict(X_test)\n",
        "accuracy = np.mean(y_pred == y_test.reshape(-1,1))\n",
        "print(f'Accuracy is {accuracy *100:.2f}%')"
      ]
    },
    {
      "cell_type": "code",
      "execution_count": 17,
      "metadata": {},
      "outputs": [
        {
          "data": {
            "image/png": "[encoded data removed]",
            "text/plain": [
              "<Figure size 640x480 with 1 Axes>"
            ]
          },
          "metadata": {},
          "output_type": "display_data"
        }
      ],
      "source": [
        "import matplotlib.pyplot as plt\n",
        "# plot the errors over epochs\n",
        "plt.plot(nn.training_loss)\n",
        "plt.title('training error vs epoch')\n",
        "plt.xlabel('epochs')\n",
        "plt.ylabel('training error')\n",
        "plt.show()"
      ]
    }
  ],
  "metadata": {
    "colab": {
      "provenance": []
    },
    "kernelspec": {
      "display_name": "Python 3",
      "name": "python3"
    },
    "language_info": {
      "codemirror_mode": {
        "name": "ipython",
        "version": 3
      },
      "file_extension": ".py",
      "mimetype": "text/x-python",
      "name": "python",
      "nbconvert_exporter": "python",
      "pygments_lexer": "ipython3",
      "version": "3.11.9"
    }
  },
  "nbformat": 4,
  "nbformat_minor": 0
}
