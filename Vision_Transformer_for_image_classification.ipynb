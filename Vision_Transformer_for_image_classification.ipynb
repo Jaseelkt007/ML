{
  "nbformat": 4,
  "nbformat_minor": 0,
  "metadata": {
    "colab": {
      "provenance": [],
      "authorship_tag": "ABX9TyMgQSMc9dZlH5PL+/6DdpAw",
      "include_colab_link": true
    },
    "kernelspec": {
      "name": "python3",
      "display_name": "Python 3"
    },
    "language_info": {
      "name": "python"
    }
  },
  "cells": [
    {
      "cell_type": "markdown",
      "metadata": {
        "id": "view-in-github",
        "colab_type": "text"
      },
      "source": [
        "<a href=\"https://colab.research.google.com/github/Jaseelkt007/ML/blob/master/Vision_Transformer_for_image_classification.ipynb\" target=\"_parent\"><img src=\"https://colab.research.google.com/assets/colab-badge.svg\" alt=\"Open In Colab\"/></a>"
      ]
    },
    {
      "cell_type": "code",
      "execution_count": 7,
      "metadata": {
        "id": "YfqCUv9tGtSi",
        "colab": {
          "base_uri": "https://localhost:8080/"
        },
        "outputId": "2f8c338e-aa87-48e5-febb-0e67a61e6082"
      },
      "outputs": [
        {
          "output_type": "stream",
          "name": "stdout",
          "text": [
            "torch.Size([64, 196, 768])\n"
          ]
        }
      ],
      "source": [
        "import torch\n",
        "import torch.nn as nn\n",
        "import torchvision\n",
        "import torchvision.transforms as transforms\n",
        "from torch.utils.data import DataLoader\n",
        "\n",
        "#parameters\n",
        "image_size = 224 #226*224 - resize\n",
        "patch_size = 10 # divide image into 16*16 patches\n",
        "embedding_dim = 768 # 16*16*3\n",
        "batch_size = 64\n",
        "'''\n",
        "transform = transforms.Compose([transforms.Resize((224,224)), transforms.ToTensor(), transforms.Normalize((0.5,0.5,0.5), (0.5,0.5,0.5))]) # Normilise to -1 to 1\n",
        "train_dataset = torchvision.datasets.CIFAR10(root='./data', train= True, download = True, transform=transform)\n",
        "test_dataset = torchvision.datasets.CIFAR10(root='./data', train= False, download = True, transform = transform)\n",
        "\n",
        "train_loader = DataLoader(train_dataset, batch_size = 64, shuffle =True) # (batch_size , C ,H ,W)\n",
        "test_loader = DataLoader(test_dataset, batch_size = 64, shuffle=True)\n",
        "'''\n",
        "class Patch_embedding(nn.Module):\n",
        "    def __init__(self, img_size ,patch_size , in_channels = 3 ,embed_size = 768) -> None:\n",
        "        super().__init__()\n",
        "        self.num_pathes = (img_size // patch_size )*2\n",
        "        self.patch_size  = patch_size\n",
        "        self.proj = nn.Linear(patch_size * patch_size *in_channels , embed_size)\n",
        "\n",
        "    def forward(self,x):\n",
        "        batch , c , h, w = x.shape\n",
        "        # cut the images into patches of size 16*16\n",
        "        patches = x.unfold(2, self.patch_size, self.patch_size).unfold(3, self.patch_size, self.patch_size) # (batch , 3, 14,14,16,16)\n",
        "        # flatten it\n",
        "        patches = patches.contiguous().view(batch_size, -1, self.patch_size * self.patch_size * c) # ( batch, 196, 768)\n",
        "        # linear projection to embedding vector\n",
        "        embedding = self.proj(patches)\n",
        "        return embedding\n",
        "# Test the Patch Embedding\n",
        "patch_embedding = Patch_embedding(img_size=224, patch_size=16, embed_size=768)\n",
        "x = torch.randn(64, 3, 224, 224)  # Example batch of 64 images\n",
        "patch_embeddings = patch_embedding(x)  # Patch embeddings\n",
        "print(patch_embeddings.shape)  # Output shape: (64, num_patches, embedding_dim)\n",
        "\n",
        "# To be continued"
      ]
    }
  ]
}