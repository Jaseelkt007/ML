{
  "cells": [
    {
      "cell_type": "code",
      "execution_count": 29,
      "metadata": {},
      "outputs": [],
      "source": [
        "import numpy as np\n",
        "import matplotlib.pyplot as plt\n",
        "from dataclasses import dataclass\n",
        "from numpy.typing import NDArray\n",
        "from typing import Set, Optional, List, Literal , Tuple"
      ]
    },
    {
      "cell_type": "markdown",
      "metadata": {},
      "source": [
        "Decision tree from scratch"
      ]
    },
    {
      "cell_type": "code",
      "execution_count": 15,
      "metadata": {},
      "outputs": [
        {
          "data": {
            "text/plain": [
              "<matplotlib.legend.Legend at 0x1bfd79ba310>"
            ]
          },
          "execution_count": 15,
          "metadata": {},
          "output_type": "execute_result"
        },
        {
          "data": {
            "image/png": "[encoded data removed]",
            "text/plain": [
              "<Figure size 640x480 with 1 Axes>"
            ]
          },
          "metadata": {},
          "output_type": "display_data"
        }
      ],
      "source": [
        "# lets create some dataset and visualize it\n",
        "X_train = np.arange(14).reshape(-1,1)\n",
        "y_train =np.array([1, 1.2, 1.4, 1.1, 1, 5.5, 6.1, 6.7, 6.4, 6, 6, 3, 3.2, 3.1])\n",
        "\n",
        "#plot the data\n",
        "fig, ax = plt.subplots()\n",
        "ax.plot(X_train, y_train ,'x' , label='y')\n",
        "ax.set_xlabel(\"input X\")\n",
        "ax.set_ylabel(\"output y\")\n",
        "ax.set_title(\"Training data\")\n",
        "ax.grid()\n",
        "ax.legend()"
      ]
    },
    {
      "cell_type": "code",
      "execution_count": 16,
      "metadata": {},
      "outputs": [],
      "source": [
        "@dataclass\n",
        "class Split:\n",
        "    feature : int\n",
        "    threshold : np.float64\n",
        "    left : Tuple[NDArray[np.float64]]\n",
        "    right : Tuple[NDArray[np.float64]]\n",
        " \n",
        "@dataclass    \n",
        "class TreeNode:\n",
        "    value : np.float64\n",
        "    feature : Optional[np.float64]\n",
        "    threshold : Optional[np.float64]\n",
        "    left: Optional[\"TreeNode\"]\n",
        "    right: Optional[\"TreeNode\"]\n",
        "    \n"
      ]
    },
    {
      "cell_type": "code",
      "execution_count": 30,
      "metadata": {},
      "outputs": [],
      "source": [
        "# Decision tree for regression task\n",
        "class Decision_tree:\n",
        "    def __init__(self, max_depth : int = 5, min_split :int = 2) -> None:\n",
        "        self.max_depth = max_depth\n",
        "        self.min_split = min_split\n",
        "        self.tree = None\n",
        "        \n",
        "    def fit(self, X: NDArray[np.float64], y : NDArray[np.float64])-> None:\n",
        "\n",
        "        self.tree = self._build_tree(X, y, 0)\n",
        "        \n",
        "    def _build_tree(self, X: NDArray[np.float64] ,y: NDArray[np.float64] ,depth : int )->TreeNode:\n",
        "        N, n = X.shape\n",
        "        \n",
        "        if N < self.min_split or (depth >= self.max_depth): # when the node is leaf node\n",
        "            return TreeNode(\n",
        "                value = np.mean(y),\n",
        "                feature = None, threshold=None,  left= None, right= None\n",
        "            )\n",
        "        best_split = self._get_best_split(X, y, n)\n",
        "        \n",
        "        if best_split is None: # if no valid splits, return leafnode\n",
        "            return TreeNode(\n",
        "                value = np.mean(y),\n",
        "                feature=None, threshold= None, left=None , right= None\n",
        "            )\n",
        "        left_subtree = self._build_tree(*best_split.left , depth+1)\n",
        "        right_subtree = self._build_tree(*best_split.right, depth+1)\n",
        "        \n",
        "        return TreeNode( # when the node is not leaf node\n",
        "            value = 0 , \n",
        "            feature = best_split.feature,\n",
        "            threshold = best_split.threshold,\n",
        "            left = left_subtree,\n",
        "            right = right_subtree,\n",
        "        )\n",
        "        \n",
        "        \n",
        "    def _get_best_split(self, X : NDArray[np.float64],y : NDArray[np.float64] ,n : int) -> Split:\n",
        "        min_mse = np.inf\n",
        "        best_split = None\n",
        "        # Iterate over all features\n",
        "        for feature_idx in range(n):\n",
        "            values = X[:, feature_idx]\n",
        "            thresholds = np.unique(values)\n",
        "            for threshold in thresholds:\n",
        "                \n",
        "                \n",
        "                left_idx = np.where(values <= threshold)[0]\n",
        "                right_idx = np.where(values > threshold)[0]\n",
        "                \n",
        "                if len(left_idx) == 0 or len(right_idx)==0:\n",
        "                    continue\n",
        "                \n",
        "                left_y , right_y = y[left_idx] , y[right_idx]\n",
        "                mse = self._mse(left_y, right_y)\n",
        "                if mse <  min_mse :\n",
        "                    min_mse = mse\n",
        "                    best_split = Split(\n",
        "                        feature = feature_idx,\n",
        "                        threshold = threshold,\n",
        "                        left = (X[left_idx,:], y[left_idx]),\n",
        "                        right = (X[right_idx,:], y[right_idx]),\n",
        "                            ) \n",
        "        return best_split             \n",
        "    \n",
        "                \n",
        "    def _mse(self, y_1: NDArray[np.float64], y_2 : NDArray[np.float64]) -> np.float64: # wieghted average MSE is used as information gain or impurity reduction\n",
        "        n_1 , n_2 = len(y_1) , len(y_2)\n",
        "        mse_1 = np.mean((y_1 - np.mean(y_1))**2)\n",
        "        mse_2 = np.mean((y_2 - np.mean(y_2))**2)\n",
        "        return np.float64((n_1 * mse_1 + n_2 * mse_2)/ (n_1 + n_2))\n",
        "    \n",
        "    \n",
        "    def predict(self, X : NDArray[np.float64])-> NDArray[np.float64]:\n",
        "        return np.array([ self._predict_sample(x , self.tree) for x in X], dtype=np.float64)\n",
        "    \n",
        "    def _predict_sample(self, x: NDArray[np.float64] , tree : TreeNode) -> np.float64:\n",
        "        if not tree.value == 0: # leaf node\n",
        "            return tree.value\n",
        "        vals = x[tree.feature]\n",
        "        if vals < tree.threshold:\n",
        "            return self._predict_sample(x,tree.left)\n",
        "        else:\n",
        "            return self._predict_sample(x,tree.right)\n",
        "        \n",
        "    \n",
        "        \n",
        "        \n",
        "        "
      ]
    },
    {
      "cell_type": "code",
      "execution_count": 31,
      "metadata": {},
      "outputs": [],
      "source": [
        "tree = Decision_tree()\n",
        "tree.fit(X_train, y_train)\n",
        "# Evaluate on some continues values for plot the true model\n",
        "X_test = np.linspace(0,15,50).reshape(-1,1)\n",
        "y_hat = tree.predict(X_test)"
      ]
    },
    {
      "cell_type": "code",
      "execution_count": 32,
      "metadata": {},
      "outputs": [
        {
          "data": {
            "text/plain": [
              "<matplotlib.legend.Legend at 0x1bfda099fd0>"
            ]
          },
          "execution_count": 32,
          "metadata": {},
          "output_type": "execute_result"
        },
        {
          "data": {
            "image/png": "[encoded data removed]",
            "text/plain": [
              "<Figure size 640x480 with 1 Axes>"
            ]
          },
          "metadata": {},
          "output_type": "display_data"
        }
      ],
      "source": [
        "# Plot the results\n",
        "plt.plot(X_train, y_train,\"x\", label='y')\n",
        "plt.plot(X_test, y_hat)\n",
        "plt.grid()\n",
        "plt.legend()"
      ]
    }
  ],
  "metadata": {
    "colab": {
      "provenance": []
    },
    "kernelspec": {
      "display_name": "Python 3",
      "name": "python3"
    },
    "language_info": {
      "codemirror_mode": {
        "name": "ipython",
        "version": 3
      },
      "file_extension": ".py",
      "mimetype": "text/x-python",
      "name": "python",
      "nbconvert_exporter": "python",
      "pygments_lexer": "ipython3",
      "version": "3.11.9"
    }
  },
  "nbformat": 4,
  "nbformat_minor": 0
}
